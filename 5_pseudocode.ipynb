{
  "cells": [
    {
      "cell_type": "markdown",
      "metadata": {
        "id": "view-in-github",
        "colab_type": "text"
      },
      "source": [
        "<a href=\"https://colab.research.google.com/github/aguvazsan/Ironhack/blob/main/5_pseudocode.ipynb\" target=\"_parent\"><img src=\"https://colab.research.google.com/assets/colab-badge.svg\" alt=\"Open In Colab\"/></a>"
      ]
    },
    {
      "cell_type": "markdown",
      "source": [
        "## What is Pseudo-code?"
      ],
      "metadata": {
        "id": "6INCD94Sfbxk"
      }
    },
    {
      "cell_type": "markdown",
      "source": [
        "Pseudo-code is an informal coding practice to help programmers plan algorithms and train programmatic thinking. \n",
        "Pseudo-code is not tied to any specific programming language such as Python, JavaScript, or C#. Instead, it uses human language. \n",
        "\n",
        "By using pseudo-code, you can plan every step of your program without worrying about syntax. \n",
        "\n",
        "Its greatest benefit is to allow you to discover the vulnerabilities and opportunities of your programmatic logic in order to improve it before implementation."
      ],
      "metadata": {
        "id": "3-K-XY6lfbxo"
      }
    },
    {
      "cell_type": "markdown",
      "source": [
        "It is essentially breaking down the problem into simpler steps and simpler words. We shouldn't be aiming to use technical expressions, but simple conversational language. \n",
        "\n",
        "This process can be broken down into two steps: \n",
        "\n",
        "1. First, think about how you will approach the problem (which strategy you will use since quite often one problem can be solved in many different ways).\n",
        "\n",
        "2. Second, consider what elements you will need in each step (loops, lists, dictionaries, variables, conditionals, etc.).\n",
        "\n",
        "One way to achieve it is to write on a piece of paper each step you would like to do **even the most obvious step** and then figure out how to write the corresponding code.\n",
        "\n",
        "To know which elements you will need, **think in English!!!** and pay extreme attention to each word you say as this will tell you which python instructions you will need.\n",
        "\n",
        "Ex 1: For every element in this list I want to compute the square of each element.\n",
        "\n",
        "Look at the sentence, there are at least two keywords: **FOR, -> FOR LOOP**, and **list, -> list variable**\n",
        "\n",
        "Ex 2: As long as the runner hasn't reached the finish line keep running.\n",
        "\n",
        "Look at the sentence, there is a condition here for stop. Therefore you should use a **WHILE LOOP**. To make sure the code will run, you need to use a variable to store the state of the condition at the beginning. In addition, you will need another variable to store the progress of the runner!"
      ],
      "metadata": {
        "id": "GtWxbpmtfbxp"
      }
    },
    {
      "cell_type": "markdown",
      "source": [
        "### Do's & Don'ts:"
      ],
      "metadata": {
        "id": "cjNgWInofbxq"
      }
    },
    {
      "cell_type": "markdown",
      "source": [
        "#### Do's:"
      ],
      "metadata": {
        "id": "f1B39WGsfbxr"
      }
    },
    {
      "cell_type": "markdown",
      "source": [
        "- Use control structure\n",
        "- Use proper naming conventions\n",
        "- Indentations and white spaces are the key\n",
        "- Keep it simple\n",
        "- Keep it concise"
      ],
      "metadata": {
        "id": "UcHcIIM6fbxr"
      }
    },
    {
      "cell_type": "markdown",
      "source": [
        "#### Don'ts:"
      ],
      "metadata": {
        "id": "KZQrbJ6pfbxr"
      }
    },
    {
      "cell_type": "markdown",
      "source": [
        "- Don't make your pseudo-code abstract\n",
        "- Don't be too generalized"
      ],
      "metadata": {
        "id": "cQ3m6Jfkfbxs"
      }
    },
    {
      "cell_type": "markdown",
      "source": [
        "### Some Examples"
      ],
      "metadata": {
        "id": "7QAs2tCvfbxs"
      }
    },
    {
      "cell_type": "markdown",
      "source": [
        "1. Write a program that asks the user for a temperature in Fahrenheit and prints out the same temperature in Celsius. "
      ],
      "metadata": {
        "id": "qWX-5pjhfbxt"
      }
    },
    {
      "cell_type": "code",
      "execution_count": null,
      "source": [
        "# This is a sample pseudo code"
      ],
      "outputs": [],
      "metadata": {
        "id": "u_1cOUQsfbxu"
      }
    },
    {
      "cell_type": "raw",
      "source": [
        "x = Get user input\n",
        "y = Convert x to Celsius\n",
        "Output message displaying Celsius temperature"
      ],
      "metadata": {
        "id": "kcQTcZHafbxx"
      }
    },
    {
      "cell_type": "code",
      "execution_count": null,
      "source": [
        "# Here is the code "
      ],
      "outputs": [],
      "metadata": {
        "id": "CC5Grz-6fbxy"
      }
    },
    {
      "cell_type": "code",
      "execution_count": null,
      "source": [
        "# precise temperature\n",
        "# Use the input command for user input. Note when we use the input function, data type is string by default\n",
        "x=input('Please input a temperature in Fahrenheit. ')  \n",
        "            \n",
        "# We can check the data type for variable x\n",
        "print(\"Data type for variable x is \", type(x)) \n",
        "\n",
        "y=(float(x)-32)*5/9  # Formula to convert degree to fahreheit    \n",
        "\n",
        "print('Your temperature in Celsius is: ', y)"
      ],
      "outputs": [
        {
          "output_type": "stream",
          "name": "stdout",
          "text": [
            "Please input a temperature in Fahrenheit. 100\n",
            "Data type for variable x is  <class 'str'>\n",
            "Your temperature in Celsius is: 37.77777777777778\n"
          ]
        }
      ],
      "metadata": {
        "id": "KdrKKXcofbxy",
        "outputId": "c9c8d3fe-e89a-4d49-e77b-7fe96f42aa84"
      }
    },
    {
      "cell_type": "markdown",
      "source": [
        "2. Write a program that converts from Fahrenheit to Celsius or from Celsius to Fahrenheit, depending on the user's choice."
      ],
      "metadata": {
        "id": "lP2nZy6ffbx0"
      }
    },
    {
      "cell_type": "code",
      "execution_count": null,
      "source": [
        "# This is a pseudo code"
      ],
      "outputs": [],
      "metadata": {
        "id": "itNd3Aehfbx1"
      }
    },
    {
      "cell_type": "raw",
      "source": [
        "x = input \"Press 1 to convert from Fahrenheit to Celsius or Press 2 to convert from Celsius to Fahrenheit.\"\n",
        "y = input ask what number?\n",
        "z = choice\n",
        "\n",
        "if z = 1 (1 is pressed)  \n",
        "    do f to c conversion      # Note we use the correct identation in the pseudocode as well\n",
        "    print output\n",
        "elif z = 2 (2 is pressed)\n",
        "    do c to f conversion\n",
        "    print output\n",
        "else\n",
        "    print \"Please enter either 1 or 2\""
      ],
      "metadata": {
        "id": "ILYMVqTHfbx1"
      }
    },
    {
      "cell_type": "code",
      "execution_count": null,
      "source": [
        "# Here is the code "
      ],
      "outputs": [],
      "metadata": {
        "id": "owQVfrq_fbx2"
      }
    },
    {
      "cell_type": "code",
      "execution_count": null,
      "source": [
        "x = int(input(\"Press 1 to convert from Fahrenheit to Celsius or Press 2 to convert from Celsius to Fahrenheit.\"))\n",
        "y = input(\"What is the number you want to convert?\")\n",
        "z = float(x)\n",
        "\n",
        "if z == 1:\n",
        "    y=(float(y)-32)*5/9\n",
        "    print(y)\n",
        "elif z == 2:\n",
        "    y=float(y)*9/5+32\n",
        "    print(y)\n",
        "else:\n",
        "    print(\"Please enter either 1 or 2\")"
      ],
      "outputs": [
        {
          "output_type": "stream",
          "name": "stdout",
          "text": [
            "Press 1 to convert from Fahrenheit to Celsius or Press 2 to convert from Celsius to Fahrenheit.2\n",
            "What is the number you want to convert?30\n",
            "86.0\n"
          ]
        }
      ],
      "metadata": {
        "id": "AgMBqWvvfbx2",
        "outputId": "18f0377e-4e68-4430-f1fb-5a7309bbffdd"
      }
    },
    {
      "cell_type": "markdown",
      "source": [
        "**Making the code more robust**"
      ],
      "metadata": {
        "id": "Rk53fxs1fbx3"
      }
    },
    {
      "cell_type": "markdown",
      "source": [
        "What more can be added?   \n",
        "Right now, if we debug our code, after the first wrong input (let's say \"3\") the code will print an error message and stop.   \n",
        "\n",
        "To succeed with the request and improve the user experience, we need to keep on asking for the value until the correct one is received. Besides that, we should prevent compiling errors.  \n",
        "\n",
        "The `float()` function can receive only numerical values. What if a user enters a string value? The user will receive a Python error message which is useless for him.  \n",
        "\n",
        "We need to prevent such bad user experiences."
      ],
      "metadata": {
        "id": "O7Vvp70zfbx4"
      }
    },
    {
      "cell_type": "code",
      "execution_count": null,
      "source": [
        "# This is a pseudo code"
      ],
      "outputs": [],
      "metadata": {
        "id": "xcaoCHBWfbx4"
      }
    },
    {
      "cell_type": "raw",
      "source": [
        "flag1 = entered value is wrong  \n",
        "# We are setting the default value to wrong/false. We will change the value to correct/true if the input value is correct                \n",
        "while flag1 is wrong\n",
        "    x = input \"Press 1 to convert from Fahrenheit to Celsius or Press 2 to convert from Celsius to Fahrenheit. \"\n",
        "    if x is not 1 or 2\n",
        "        print error message\n",
        "    else\n",
        "        z = choice\n",
        "        flag1 = entered value is correct\n",
        "\n",
        "flag2 = entered number is not a number\n",
        "while flag2 is wrong\n",
        "    y = input ask what number?\n",
        "    if y is not number\n",
        "        print error message\n",
        "    else\n",
        "        convert y into float number\n",
        "        flag2 = entered value is correct\n",
        "\n",
        "if z = 1 (1 is pressed)\n",
        "    do f to c conversion\n",
        "    print output\n",
        "else (2 is pressed)\n",
        "    do c to f conversion\n",
        "    print output"
      ],
      "metadata": {
        "id": "FPoiyavsfbx5"
      }
    },
    {
      "cell_type": "code",
      "execution_count": null,
      "source": [
        "# Here is the code "
      ],
      "outputs": [],
      "metadata": {
        "id": "FmUdqYJgfbx5"
      }
    },
    {
      "cell_type": "code",
      "execution_count": null,
      "source": [
        "flag1=False\n",
        "while flag1==False:\n",
        "    x = input(\"Press 1 to convert from Fahrenheit to Celsius or Press 2 to convert from Celsius to Fahrenheit. \")\n",
        "    if x not in ['1','2']:\n",
        "        print('ERROR: Please enter either 1 or 2')\n",
        "    else:\n",
        "        z = int(x)\n",
        "        flag1=True\n",
        "\n",
        "flag2=False\n",
        "while flag2==False:\n",
        "    y = input(\"What is the number you want to convert?\")\n",
        "    if y.replace(\".\", \"\", 1).lstrip('+-').isdigit()==False:\n",
        "        print('ERROR: Please enter a number')\n",
        "    else:\n",
        "        y=float(y)\n",
        "        flag2=True\n",
        "\n",
        "if z == 1:\n",
        "    y=(y-32)*5/9\n",
        "    print(y)\n",
        "else:\n",
        "    y=y*9/5+32\n",
        "    print(y)"
      ],
      "outputs": [
        {
          "output_type": "stream",
          "name": "stdout",
          "text": [
            "Press 1 to convert from Fahrenheit to Celsius or Press 2 to convert from Celsius to Fahrenheit. a\n",
            "ERROR: Please enter either 1 or 2\n",
            "Press 1 to convert from Fahrenheit to Celsius or Press 2 to convert from Celsius to Fahrenheit. 1\n",
            "What is the number you want to convert?a\n",
            "ERROR: Please enter a number\n",
            "What is the number you want to convert?100\n",
            "37.77777777777778\n"
          ]
        }
      ],
      "metadata": {
        "id": "BF9gDDX8fbx6",
        "outputId": "9a1d2182-ee41-4103-b752-ed059090b5c9"
      }
    },
    {
      "cell_type": "code",
      "execution_count": null,
      "source": [],
      "outputs": [],
      "metadata": {
        "id": "WGCwTaL8fbx7"
      }
    },
    {
      "cell_type": "markdown",
      "source": [
        "### Exercise - Writing Pseudocode"
      ],
      "metadata": {
        "id": "b_igcGNhfbx7"
      }
    },
    {
      "cell_type": "markdown",
      "source": [
        "#### Duel Of Sorcerers"
      ],
      "metadata": {
        "id": "g6hW-HNLfbx7"
      }
    },
    {
      "cell_type": "markdown",
      "source": [
        "You are witnessing an epic battle between two powerful sorcerers: Gandalf and Saruman. \n",
        "Each sorcerer has 10 spells of variable power in their mind and they are going to throw them one after the other. \n",
        "The winner of the duel will be the one who wins more of those clashes between spells. Spells are represented as a list of 10 integers whose value equals the power of the spell.\n",
        "\n",
        "```shell\n",
        "gandalf = [10, 11, 13, 30, 22, 11, 10, 33, 22, 22]\n",
        "saruman = [23, 66, 12, 43, 12, 10, 44, 23, 12, 17]\n",
        "```\n",
        "\n",
        "For example:\n",
        "The first clash is won by Saruman: 10 against 23, wins 23\n",
        "The second clash wins Saruman: 11 against 66, wins 66\n",
        "etc.\n",
        "\n",
        "You will create two variables, one for each sorcerer, where the sum of clashes wins will be stored. Depending on which variable is greater at the end of the duel, you will show one of the following three results on the screen:\n",
        "- Gandalf wins\n",
        "- Saruman wins\n",
        "- Tie\n",
        "\n",
        "Write a pseudocode to solve this problem and then code it!"
      ],
      "metadata": {
        "id": "mQkgq-o1fbx8"
      }
    },
    {
      "cell_type": "markdown",
      "source": [
        "Hints to solve this problem: \n",
        "\n",
        "- This is a tournament of a fixed length ( as many times as elements in any list, both have the same amount of elements), therefore, you know beforehand **how many times** Gandalf and Saruman will be fighting each other. Can you figure out the type of loop? \n",
        "\n",
        "- Moreover, you will have to **compare** the elements of each list in each fight. How you can make a comparison? How you can retrieve each element of both lists?\n",
        "\n",
        "- Then, you will need to keep track of how many times each sorcerer won any fight. That is **counting!!**, you will need some variables to store this progress.\n",
        "\n",
        "- Finally, at the end of the tournament, you will need to **compare** the number of wins of each sorcerer and make a decision based on this comparison.\n",
        "\n",
        "Good luck!"
      ],
      "metadata": {
        "id": "fdypvpHkfbx8"
      }
    },
    {
      "cell_type": "code",
      "source": [
        "# Create a loop that goes through each of the items in the list and compares them in each of their positions.\n",
        "\n",
        "gandalf = [10, 11, 13, 30, 22, 11, 10, 33, 22, 22]\n",
        "saruman = [23, 66, 12, 43, 12, 10, 44, 23, 12, 17]\n",
        "\n",
        "\n",
        "# If an element is greater than another, we print the name of the containing list of the same\n",
        "\n",
        "for i in range(len(gandalf)):\n",
        "\n",
        "  if gandalf[i] > saruman[i]:\n",
        "    \n",
        "    print('Round', i+1, 'Gandalf wins')\n",
        "    \n",
        "  else: print('Round', i+1, 'Saruman wins')\n",
        "  \n",
        "# For each of the victories achieved, create a loop that adds the victories achieved\n",
        "\n",
        "victoriaGandalf = 0\n",
        "victoriaSaruman = 0\n",
        "\n",
        "for i in range(len(gandalf)):\n",
        "\n",
        "  if gandalf[i] > saruman[i]:\n",
        "    victoriaGandalf += 1\n",
        "        \n",
        "  else: victoriaSaruman +=1\n",
        "\n",
        "print('Total victorias Gandalf', victoriaGandalf)\n",
        "print('Total victorias Saruman', victoriaSaruman)\n",
        "\n",
        "# For the total points obtained for each of the routes, compare the sum of both and declare the winner\n",
        "\n",
        "if victoriaGandalf > victoriaSaruman:\n",
        "  print('Galndalf Wins')\n",
        "else: print('Saruman Wins')\n",
        "\n",
        "\n",
        "\n",
        "\n",
        "\n",
        "\n",
        "  \n",
        "\n",
        " \n",
        "\n",
        "\n",
        "\n"
      ],
      "metadata": {
        "id": "1tQq6BDmgGzo",
        "colab": {
          "base_uri": "https://localhost:8080/"
        },
        "outputId": "8317de94-72a8-4c13-d7de-8f72059ef5ff"
      },
      "execution_count": 43,
      "outputs": [
        {
          "output_type": "stream",
          "name": "stdout",
          "text": [
            "Round 1 Saruman wins\n",
            "Round 2 Saruman wins\n",
            "Round 3 Gandalf wins\n",
            "Round 4 Saruman wins\n",
            "Round 5 Gandalf wins\n",
            "Round 6 Gandalf wins\n",
            "Round 7 Saruman wins\n",
            "Round 8 Gandalf wins\n",
            "Round 9 Gandalf wins\n",
            "Round 10 Gandalf wins\n",
            "Total victorias Gandalf 6\n",
            "Total victorias Saruman 4\n",
            "Galndalf Wins\n"
          ]
        }
      ]
    }
  ],
  "metadata": {
    "kernelspec": {
      "display_name": "Python 3",
      "language": "python",
      "name": "python3"
    },
    "language_info": {
      "codemirror_mode": {
        "name": "ipython",
        "version": 3
      },
      "file_extension": ".py",
      "mimetype": "text/x-python",
      "name": "python",
      "nbconvert_exporter": "python",
      "pygments_lexer": "ipython3",
      "version": "3.8.8"
    },
    "colab": {
      "provenance": [],
      "include_colab_link": true
    }
  },
  "nbformat": 4,
  "nbformat_minor": 0
}